{
 "cells": [
  {
   "cell_type": "code",
   "execution_count": 1,
   "id": "f33da5eb",
   "metadata": {},
   "outputs": [
    {
     "name": "stderr",
     "output_type": "stream",
     "text": [
      "d:\\Anaconda\\envs\\inosuke2\\lib\\site-packages\\tqdm\\auto.py:21: TqdmWarning: IProgress not found. Please update jupyter and ipywidgets. See https://ipywidgets.readthedocs.io/en/stable/user_install.html\n",
      "  from .autonotebook import tqdm as notebook_tqdm\n"
     ]
    },
    {
     "name": "stdout",
     "output_type": "stream",
     "text": [
      "Loading base model...\n"
     ]
    },
    {
     "name": "stderr",
     "output_type": "stream",
     "text": [
      "Loading checkpoint shards: 100%|██████████| 2/2 [00:09<00:00,  4.92s/it]\n"
     ]
    },
    {
     "name": "stdout",
     "output_type": "stream",
     "text": [
      "Loading LoRA adapter...\n",
      "Loading test data...\n",
      "Computing perplexity...\n"
     ]
    },
    {
     "name": "stderr",
     "output_type": "stream",
     "text": [
      "100%|██████████| 5/5 [00:01<00:00,  3.84it/s]"
     ]
    },
    {
     "name": "stdout",
     "output_type": "stream",
     "text": [
      "\n",
      "=== Perplexity on test set: 8.23 ===\n"
     ]
    },
    {
     "name": "stderr",
     "output_type": "stream",
     "text": [
      "\n"
     ]
    }
   ],
   "source": [
    "import torch\n",
    "import json\n",
    "from transformers import AutoTokenizer, AutoModelForCausalLM, BitsAndBytesConfig\n",
    "from peft import PeftModel\n",
    "from tqdm import tqdm\n",
    "import math\n",
    "\n",
    "# Config\n",
    "base_model = r\"D:\\AI-Inosuke\\models\\Qwen2.5-3B-Instruct\"\n",
    "lora_model = r\"D:\\AI-Inosuke\\models\\inosuke-lora\\checkpoint-2605\"\n",
    "test_file = r\"D:\\AI-Inosuke\\test\\test_set.jsonl\"\n",
    "\n",
    "# Load tokenizer\n",
    "tokenizer = AutoTokenizer.from_pretrained(base_model)\n",
    "\n",
    "# Load model with 4-bit quantization\n",
    "bnb_config = BitsAndBytesConfig(\n",
    "    load_in_4bit=True,\n",
    "    bnb_4bit_use_double_quant=True,\n",
    "    bnb_4bit_quant_type=\"nf4\",\n",
    "    bnb_4bit_compute_dtype=torch.bfloat16\n",
    ")\n",
    "\n",
    "print(\"Loading base model...\")\n",
    "model = AutoModelForCausalLM.from_pretrained(\n",
    "    base_model,\n",
    "    quantization_config=bnb_config,\n",
    "    device_map=\"auto\"   \n",
    ")\n",
    "\n",
    "print(\"Loading LoRA adapter...\")\n",
    "model = PeftModel.from_pretrained(model, lora_model)\n",
    "\n",
    "model.eval()  #\n",
    "\n",
    "# Load test set \n",
    "print(\"Loading test data...\")\n",
    "test_data = []\n",
    "with open(test_file, \"r\", encoding=\"utf-8\") as f:\n",
    "    for line in f:\n",
    "        ex = json.loads(line)\n",
    "        \n",
    "        instr = ex[\"instruction\"]\n",
    "        inp = ex.get(\"input\", \"\")\n",
    "        out = ex[\"output\"]\n",
    "\n",
    "        if inp and inp.strip():\n",
    "            text = f\"### Instruction:\\n{instr}\\n\\n### Input:\\n{inp}\\n\\n### Response:\\n{out}\"\n",
    "        else:\n",
    "            text = f\"### Instruction:\\n{instr}\\n\\n### Response:\\n{out}\"\n",
    "        test_data.append(text)\n",
    "\n",
    "# Compute perplexity \n",
    "print(\"Computing perplexity...\")\n",
    "\n",
    "total_loss = 0\n",
    "total_tokens = 0\n",
    "\n",
    "with torch.no_grad():\n",
    "    for text in tqdm(test_data):\n",
    "        inputs = tokenizer(text, return_tensors=\"pt\", truncation=True, max_length=1024)\n",
    "        input_ids = inputs[\"input_ids\"].to(model.device)\n",
    "\n",
    "        # Shift labels = input_ids\n",
    "        outputs = model(input_ids=input_ids, labels=input_ids)\n",
    "        loss = outputs.loss\n",
    "        num_tokens = input_ids.numel()\n",
    "\n",
    "        total_loss += loss.item() * num_tokens\n",
    "        total_tokens += num_tokens\n",
    "\n",
    "avg_loss = total_loss / total_tokens\n",
    "ppl = math.exp(avg_loss)\n",
    "\n",
    "print(f\"\\n=== Perplexity on test set: {ppl:.2f} ===\")\n"
   ]
  }
 ],
 "metadata": {
  "kernelspec": {
   "display_name": "inosuke2",
   "language": "python",
   "name": "python3"
  },
  "language_info": {
   "codemirror_mode": {
    "name": "ipython",
    "version": 3
   },
   "file_extension": ".py",
   "mimetype": "text/x-python",
   "name": "python",
   "nbconvert_exporter": "python",
   "pygments_lexer": "ipython3",
   "version": "3.10.18"
  }
 },
 "nbformat": 4,
 "nbformat_minor": 5
}
