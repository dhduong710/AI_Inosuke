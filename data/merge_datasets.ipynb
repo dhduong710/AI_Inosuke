{
 "cells": [
  {
   "cell_type": "code",
   "execution_count": 1,
   "id": "2bbd32f1",
   "metadata": {},
   "outputs": [],
   "source": [
    "import json\n",
    "import random\n",
    "\n",
    "input_files = {\n",
    "    \"persona\": \"D:/AI-Inosuke/data/data_collected/persona.json\",\n",
    "    \"quotes\": \"D:/AI-Inosuke/data/data_collected/quotes.json\",\n",
    "    \"conversations\": \"D:/AI-Inosuke/data/data_collected/conversations.json\",\n",
    "    \"genericqa\": \"D:/AI-Inosuke/data/data_collected/genericqa.json\"\n",
    "}\n",
    "\n",
    "output_file = \"D:/AI-Inosuke/data/dataset.jsonl\""
   ]
  },
  {
   "cell_type": "code",
   "execution_count": 2,
   "id": "b3acafd8",
   "metadata": {},
   "outputs": [
    {
     "name": "stdout",
     "output_type": "stream",
     "text": [
      "Thống kê số mẫu theo file:\n",
      " - persona: 782\n",
      " - quotes: 1330\n",
      " - conversations: 6797\n",
      " - genericqa: 350\n",
      "Tổng cộng: 9259 mẫu\n"
     ]
    }
   ],
   "source": [
    "all_data = []\n",
    "stats = {}\n",
    "\n",
    "for name, file in input_files.items():\n",
    "    with open(file, \"r\", encoding=\"utf-8\") as f:\n",
    "        data = json.load(f)\n",
    "        if not isinstance(data, list):\n",
    "            raise ValueError(f\"File {file} không đúng format list JSON\")\n",
    "\n",
    "        stats[name] = len(data)\n",
    "        all_data.extend(data)\n",
    "\n",
    "print(\"Thống kê số mẫu theo file:\")\n",
    "for k, v in stats.items():\n",
    "    print(f\" - {k}: {v}\")\n",
    "print(f\"Tổng cộng: {len(all_data)} mẫu\")"
   ]
  },
  {
   "cell_type": "code",
   "execution_count": 3,
   "id": "40e00f70",
   "metadata": {},
   "outputs": [],
   "source": [
    "random.shuffle(all_data)\n",
    "\n",
    "with open(output_file, \"w\", encoding=\"utf-8\") as f:\n",
    "    for item in all_data:\n",
    "        f.write(json.dumps(item, ensure_ascii=False) + \"\\n\")"
   ]
  }
 ],
 "metadata": {
  "kernelspec": {
   "display_name": "inosuke-ai",
   "language": "python",
   "name": "python3"
  },
  "language_info": {
   "codemirror_mode": {
    "name": "ipython",
    "version": 3
   },
   "file_extension": ".py",
   "mimetype": "text/x-python",
   "name": "python",
   "nbconvert_exporter": "python",
   "pygments_lexer": "ipython3",
   "version": "3.10.18"
  }
 },
 "nbformat": 4,
 "nbformat_minor": 5
}
